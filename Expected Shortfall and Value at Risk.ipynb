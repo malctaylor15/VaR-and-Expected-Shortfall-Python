{
 "cells": [
  {
   "cell_type": "code",
   "execution_count": 1,
   "metadata": {
    "collapsed": true
   },
   "outputs": [],
   "source": [
    "import pandas as pd \n",
    "import numpy as np"
   ]
  },
  {
   "cell_type": "code",
   "execution_count": 2,
   "metadata": {
    "collapsed": false
   },
   "outputs": [
    {
     "data": {
      "text/html": [
       "<div>\n",
       "<table border=\"1\" class=\"dataframe\">\n",
       "  <thead>\n",
       "    <tr style=\"text-align: right;\">\n",
       "      <th></th>\n",
       "      <th>Date</th>\n",
       "      <th>MSFT Price</th>\n",
       "      <th>APPL Price</th>\n",
       "      <th>MSFT Log Price</th>\n",
       "      <th>AAPL Log Price</th>\n",
       "      <th>MSFT Log Return</th>\n",
       "      <th>AAPL Log Return</th>\n",
       "    </tr>\n",
       "  </thead>\n",
       "  <tbody>\n",
       "    <tr>\n",
       "      <th>0</th>\n",
       "      <td>31-Aug-11</td>\n",
       "      <td>26.60</td>\n",
       "      <td>54.98</td>\n",
       "      <td>3.280911</td>\n",
       "      <td>4.006969</td>\n",
       "      <td>NaN</td>\n",
       "      <td>NaN</td>\n",
       "    </tr>\n",
       "    <tr>\n",
       "      <th>1</th>\n",
       "      <td>1-Sep-11</td>\n",
       "      <td>26.21</td>\n",
       "      <td>54.43</td>\n",
       "      <td>3.266141</td>\n",
       "      <td>3.996915</td>\n",
       "      <td>-0.014770</td>\n",
       "      <td>-0.010054</td>\n",
       "    </tr>\n",
       "    <tr>\n",
       "      <th>2</th>\n",
       "      <td>2-Sep-11</td>\n",
       "      <td>25.80</td>\n",
       "      <td>53.44</td>\n",
       "      <td>3.250374</td>\n",
       "      <td>3.978560</td>\n",
       "      <td>-0.015767</td>\n",
       "      <td>-0.018356</td>\n",
       "    </tr>\n",
       "    <tr>\n",
       "      <th>3</th>\n",
       "      <td>6-Sep-11</td>\n",
       "      <td>25.51</td>\n",
       "      <td>54.25</td>\n",
       "      <td>3.239071</td>\n",
       "      <td>3.993603</td>\n",
       "      <td>-0.011304</td>\n",
       "      <td>0.015043</td>\n",
       "    </tr>\n",
       "    <tr>\n",
       "      <th>4</th>\n",
       "      <td>7-Sep-11</td>\n",
       "      <td>26.00</td>\n",
       "      <td>54.85</td>\n",
       "      <td>3.258097</td>\n",
       "      <td>4.004602</td>\n",
       "      <td>0.019026</td>\n",
       "      <td>0.010999</td>\n",
       "    </tr>\n",
       "  </tbody>\n",
       "</table>\n",
       "</div>"
      ],
      "text/plain": [
       "        Date   MSFT Price  APPL Price  MSFT Log Price  AAPL Log Price  \\\n",
       "0  31-Aug-11        26.60       54.98        3.280911        4.006969   \n",
       "1   1-Sep-11        26.21       54.43        3.266141        3.996915   \n",
       "2   2-Sep-11        25.80       53.44        3.250374        3.978560   \n",
       "3   6-Sep-11        25.51       54.25        3.239071        3.993603   \n",
       "4   7-Sep-11        26.00       54.85        3.258097        4.004602   \n",
       "\n",
       "   MSFT Log Return  AAPL Log Return  \n",
       "0              NaN              NaN  \n",
       "1        -0.014770        -0.010054  \n",
       "2        -0.015767        -0.018356  \n",
       "3        -0.011304         0.015043  \n",
       "4         0.019026         0.010999  "
      ]
     },
     "execution_count": 2,
     "metadata": {},
     "output_type": "execute_result"
    }
   ],
   "source": [
    "data1 = pd.read_csv(\"MSFT_AAPL_Log_Returns (1).csv\")\n",
    "data1.head()"
   ]
  },
  {
   "cell_type": "code",
   "execution_count": 3,
   "metadata": {
    "collapsed": false
   },
   "outputs": [],
   "source": [
    "data = data1.drop(data1.index[0])"
   ]
  },
  {
   "cell_type": "raw",
   "metadata": {},
   "source": [
    "Initialize parameter for weights and value of portfolio"
   ]
  },
  {
   "cell_type": "code",
   "execution_count": 4,
   "metadata": {
    "collapsed": true
   },
   "outputs": [],
   "source": [
    "ValPort = 1000000\n",
    "MarketCapMSFT = 448.77\n",
    "MarketCapAAPL = 577.1\n",
    "WeightMSFT = MarketCapMSFT/ (MarketCapMSFT+MarketCapAAPL)\n",
    "WeightAAPL = MarketCapAAPL/(MarketCapMSFT+MarketCapAAPL)"
   ]
  },
  {
   "cell_type": "markdown",
   "metadata": {},
   "source": [
    "Full Loss Operator and Linear Loss Operator \n",
    "\n",
    "Full Loss Operator is: \n",
    "$l_{[t]}(x) = -V_t ( w_t^M (e^{x^m} -1) + w_t^A (e^{x^A} -1))$\n",
    "\n",
    "Linear Loss Operator is: \n",
    "$l'_{[t]}(x) = -V_t ( w_t^M x^m + w_t^A x^A)$\n",
    "\n",
    "where $w_t^M$ , $w_t^A$ are the weights and $x^m$, $x^A$ are the one day log returns for Apple and Microsoft"
   ]
  },
  {
   "cell_type": "code",
   "execution_count": 5,
   "metadata": {
    "collapsed": false
   },
   "outputs": [],
   "source": [
    "FullLoss = -ValPort * ((WeightAAPL*(np.exp(data[\"AAPL Log Return\"])-1))\n",
    "                      +(WeightMSFT*(np.exp(data[\"MSFT Log Return\"])-1)))\n",
    "    \n",
    "LinearLoss = -ValPort * ((WeightAAPL*data[\"AAPL Log Return\"])\n",
    "                       +(WeightMSFT*data[\"MSFT Log Return\"]))"
   ]
  },
  {
   "cell_type": "code",
   "execution_count": 6,
   "metadata": {
    "collapsed": true
   },
   "outputs": [],
   "source": [
    "def ValueAtRisk (data_column, alpha = 0.95):\n",
    "    \"This function computes the value at risk for a dataframe\"\n",
    "    \"It should take in a Series of data \"\n",
    "    sorted_df = data_column.sort_values(ascending = True)\n",
    "    VaR = sorted_df.quantile(q= alpha, interpolation = 'higher')\n",
    "    return VaR"
   ]
  },
  {
   "cell_type": "raw",
   "metadata": {},
   "source": [
    "The expected shortfall is defined by \n",
    "\n",
    "In the following function we break down the equation into 4 parts"
   ]
  },
  {
   "cell_type": "code",
   "execution_count": 7,
   "metadata": {
    "collapsed": false
   },
   "outputs": [],
   "source": [
    "def ExpectedShortFall (data_column, alpha = 0.95):\n",
    "    sorted_df = data_column.sort_values(ascending = True)\n",
    "    VaR = ValueAtRisk(sorted_df, alpha = alpha )\n",
    "    Multipler = 1/(len(sorted_df)*(1-alpha))\n",
    "    FirstTerm = VaR\n",
    "    SecondTerm = (sorted_df.searchsorted(VaR)[0]+1) - len(sorted_df)*alpha \n",
    "    #SecondTerm = 1\n",
    "    ThirdTerm = sum(sorted_df[sorted_df > VaR])\n",
    "    ES = Multipler *(FirstTerm * SecondTerm + ThirdTerm)\n",
    "    return ES"
   ]
  },
  {
   "cell_type": "code",
   "execution_count": 8,
   "metadata": {
    "collapsed": false
   },
   "outputs": [
    {
     "name": "stdout",
     "output_type": "stream",
     "text": [
      " Full Loss VaR:  19566.5452585 \n",
      " Full Loss Expected Shortfall:  29348.7045053 \n",
      " Linear Loss VaR:   19834.3583327 \n",
      " Linear Loss Expected Shortfall:  30011.6378995\n"
     ]
    }
   ],
   "source": [
    "print(\" Full Loss VaR: \", ValueAtRisk(FullLoss), '\\n',\n",
    "      \"Full Loss Expected Shortfall: \", ExpectedShortFall(FullLoss), '\\n',     \n",
    "     \"Linear Loss VaR:  \", ValueAtRisk(LinearLoss), '\\n',\n",
    "      \"Linear Loss Expected Shortfall: \", ExpectedShortFall(LinearLoss)\n",
    "     )"
   ]
  },
  {
   "cell_type": "code",
   "execution_count": null,
   "metadata": {
    "collapsed": true
   },
   "outputs": [],
   "source": []
  },
  {
   "cell_type": "code",
   "execution_count": null,
   "metadata": {
    "collapsed": true
   },
   "outputs": [],
   "source": []
  }
 ],
 "metadata": {
  "kernelspec": {
   "display_name": "Python [Root]",
   "language": "python",
   "name": "Python [Root]"
  },
  "language_info": {
   "codemirror_mode": {
    "name": "ipython",
    "version": 3
   },
   "file_extension": ".py",
   "mimetype": "text/x-python",
   "name": "python",
   "nbconvert_exporter": "python",
   "pygments_lexer": "ipython3",
   "version": "3.5.2"
  }
 },
 "nbformat": 4,
 "nbformat_minor": 0
}
